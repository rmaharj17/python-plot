{
 "cells": [
  {
   "cell_type": "code",
   "execution_count": 18,
   "metadata": {
    "collapsed": true
   },
   "outputs": [],
   "source": [
    "# numpy: to work with array in python\n",
    "#import numpy as np\n",
    "#np.loadtxt(fname = 'inflammation-01.csv', delimiter = ',')"
   ]
  },
  {
   "cell_type": "code",
   "execution_count": 19,
   "metadata": {
    "collapsed": true
   },
   "outputs": [],
   "source": [
    "#data = np.loadtxt(fname = 'inflammation-01.csv', delimiter = ',')\n",
    "#data[0:5, 15:18]"
   ]
  },
  {
   "cell_type": "code",
   "execution_count": 20,
   "metadata": {
    "collapsed": true
   },
   "outputs": [],
   "source": [
    "#np.mean(data)    # like dot notation, library.function, data is argument here"
   ]
  },
  {
   "cell_type": "code",
   "execution_count": 21,
   "metadata": {
    "collapsed": true
   },
   "outputs": [],
   "source": [
    "#print(data.shape)   # like dot notation, variable.attribute"
   ]
  },
  {
   "cell_type": "code",
   "execution_count": 22,
   "metadata": {},
   "outputs": [
    {
     "data": {
      "text/plain": [
       "'import time\\n# For functions that don’t take in any arguments, we still need parentheses (()) to tell Python to go and do something for us.\\ntime.ctime()   # print(time.ctime()), '"
      ]
     },
     "execution_count": 22,
     "metadata": {},
     "output_type": "execute_result"
    }
   ],
   "source": [
    "'''import time\n",
    "# For functions that don’t take in any arguments, we still need parentheses (()) to tell Python to go and do something for us.\n",
    "time.ctime()   # print(time.ctime()), '''"
   ]
  },
  {
   "cell_type": "code",
   "execution_count": 23,
   "metadata": {},
   "outputs": [
    {
     "data": {
      "text/plain": [
       "'maxval, minval, stdval = data.max(), data.min(), data.std()\\n# maxval, minval, stdval = np.max(data), np.min(data), np.std(data)\\nprint(\"We can do all at one line as: \", maxval, \" \", minval, \" \", stdval)\\n'"
      ]
     },
     "execution_count": 23,
     "metadata": {},
     "output_type": "execute_result"
    }
   ],
   "source": [
    "'''maxval, minval, stdval = data.max(), data.min(), data.std()\n",
    "# maxval, minval, stdval = np.max(data), np.min(data), np.std(data)\n",
    "print(\"We can do all at one line as: \", maxval, \" \", minval, \" \", stdval)\n",
    "'''"
   ]
  },
  {
   "cell_type": "code",
   "execution_count": 24,
   "metadata": {
    "collapsed": true
   },
   "outputs": [],
   "source": [
    "#numpy.negative?  # first type 'np.' then tab to search other functions and '?' for help in IPython\n",
    "# help(np.negative)"
   ]
  },
  {
   "cell_type": "code",
   "execution_count": 22,
   "metadata": {},
   "outputs": [
    {
     "name": "stdout",
     "output_type": "stream",
     "text": [
      "The average inflammation to second patient is:  5.425\n"
     ]
    }
   ],
   "source": [
    "# use different variables to load a slice of data for small piece of calculation\n",
    "print(\"The average inflammation to second patient is: \", np.average(data[1, :]))"
   ]
  },
  {
   "cell_type": "code",
   "execution_count": 25,
   "metadata": {},
   "outputs": [
    {
     "data": {
      "text/plain": [
       "'print(\"Average of all the individual columns: \", np.average(data, axis = 0))\\nprint(np.mean(data, axis = 0).shape)  # (40,) represents N*1 vector\\n# this one is for rows: np.mean(data, axis = 1)\\n'"
      ]
     },
     "execution_count": 25,
     "metadata": {},
     "output_type": "execute_result"
    }
   ],
   "source": [
    "'''print(\"Average of all the individual columns: \", np.average(data, axis = 0))\n",
    "print(np.mean(data, axis = 0).shape)  # (40,) represents N*1 vector\n",
    "# this one is for rows: np.mean(data, axis = 1)\n",
    "'''"
   ]
  },
  {
   "cell_type": "code",
   "execution_count": 26,
   "metadata": {},
   "outputs": [
    {
     "data": {
      "text/plain": [
       "'\\n# Visualizing data\\n\"\"\"mathematician Richard Hamming “The purpose of computing is insight, not numbers,”\\nand the best way to develop insight is often to visualize data\"\"\"\\n\"\"\" First, we will import the pyplot module from matplotlib and use two of its functions to create and\\ndisplay a heat map of our data:\"\"\"\\nimport matplotlib.pyplot as plt\\nimage = plt.imshow(data)\\nplt.show()\\n'"
      ]
     },
     "execution_count": 26,
     "metadata": {},
     "output_type": "execute_result"
    }
   ],
   "source": [
    "'''\n",
    "# Visualizing data\n",
    "\"\"\"mathematician Richard Hamming “The purpose of computing is insight, not numbers,”\n",
    "and the best way to develop insight is often to visualize data\"\"\"\n",
    "\"\"\" First, we will import the pyplot module from matplotlib and use two of its functions to create and\n",
    "display a heat map of our data:\"\"\"\n",
    "import matplotlib.pyplot as plt\n",
    "image = plt.imshow(data)\n",
    "plt.show()\n",
    "'''"
   ]
  },
  {
   "cell_type": "code",
   "execution_count": 27,
   "metadata": {},
   "outputs": [
    {
     "data": {
      "text/plain": [
       "'\\nave_inflammation = np.mean(data, axis = 0)\\nplot_aveInfla = plt.plot(ave_inflammation)\\nplt.show()\\n'"
      ]
     },
     "execution_count": 27,
     "metadata": {},
     "output_type": "execute_result"
    }
   ],
   "source": [
    "'''\n",
    "ave_inflammation = np.mean(data, axis = 0)\n",
    "plot_aveInfla = plt.plot(ave_inflammation)\n",
    "plt.show()\n",
    "'''"
   ]
  },
  {
   "cell_type": "code",
   "execution_count": 28,
   "metadata": {},
   "outputs": [
    {
     "data": {
      "text/plain": [
       "'\\n# to make smoother curve\\nmax_inflammation = np.max(data, axis = 0)\\nplot_maxInfla = plt.plot(max_inflammation)\\n# plot_maxInfla.set_ylim(0, 25)\\n# plot_maxInfla.set_ylabel(\"Inflammations\")\\nplt.show()\\n'"
      ]
     },
     "execution_count": 28,
     "metadata": {},
     "output_type": "execute_result"
    }
   ],
   "source": [
    "'''\n",
    "# to make smoother curve\n",
    "max_inflammation = np.max(data, axis = 0)\n",
    "plot_maxInfla = plt.plot(max_inflammation)\n",
    "# plot_maxInfla.set_ylim(0, 25)\n",
    "# plot_maxInfla.set_ylabel(\"Inflammations\")\n",
    "plt.show()\n",
    "'''"
   ]
  },
  {
   "cell_type": "code",
   "execution_count": 29,
   "metadata": {},
   "outputs": [
    {
     "data": {
      "text/plain": [
       "'\\n# Stacking arrays\\na = np.array([[2,5,7], [7, 4, 1], [8, 5, 4]])\\nprint(\"a = \", a)\\n\\nhstack = np.hstack([a, a])\\nprint(\\'\\nhstack = \\')\\nprint (hstack)\\n\\nprint(\\'\\nvstack = \\')\\nvstack = np.vstack([a, a])\\nprint(vstack)\\n'"
      ]
     },
     "execution_count": 29,
     "metadata": {},
     "output_type": "execute_result"
    }
   ],
   "source": [
    "'''\n",
    "# Stacking arrays\n",
    "a = np.array([[2,5,7], [7, 4, 1], [8, 5, 4]])\n",
    "print(\"a = \", a)\n",
    "\n",
    "hstack = np.hstack([a, a])\n",
    "print('\\nhstack = ')\n",
    "print (hstack)\n",
    "\n",
    "print('\\nvstack = ')\n",
    "vstack = np.vstack([a, a])\n",
    "print(vstack)\n",
    "'''"
   ]
  },
  {
   "cell_type": "code",
   "execution_count": 30,
   "metadata": {
    "collapsed": true
   },
   "outputs": [],
   "source": [
    "#np.max(np.absolute(np.diff(data, axis=1)), axis=1)"
   ]
  },
  {
   "cell_type": "code",
   "execution_count": 31,
   "metadata": {},
   "outputs": [
    {
     "data": {
      "text/plain": [
       "'\\n# loop is a way to do operations many times\\nword = \"print\"\\nfor i in word:\\n    print(i)\\n    '"
      ]
     },
     "execution_count": 31,
     "metadata": {},
     "output_type": "execute_result"
    }
   ],
   "source": [
    "'''\n",
    "# loop is a way to do operations many times\n",
    "word = \"print\"\n",
    "for i in word:\n",
    "    print(i)\n",
    "    '''"
   ]
  },
  {
   "cell_type": "code",
   "execution_count": 32,
   "metadata": {},
   "outputs": [
    {
     "data": {
      "text/plain": [
       "'\\n# to update a variable\\nlength = 0\\nfruit = \"POMEGRANATE\"\\nfor i in fruit:\\n    length += 1\\nprint(\"The length of the fruit is \", length)\\n'"
      ]
     },
     "execution_count": 32,
     "metadata": {},
     "output_type": "execute_result"
    }
   ],
   "source": [
    "'''\n",
    "# to update a variable\n",
    "length = 0\n",
    "fruit = \"POMEGRANATE\"\n",
    "for i in fruit:\n",
    "    length += 1\n",
    "print(\"The length of the fruit is \", length)\n",
    "'''"
   ]
  },
  {
   "cell_type": "code",
   "execution_count": 33,
   "metadata": {
    "collapsed": true
   },
   "outputs": [],
   "source": [
    "#print(pow(2, 4))\n",
    "#print(2**4)"
   ]
  },
  {
   "cell_type": "code",
   "execution_count": 34,
   "metadata": {},
   "outputs": [
    {
     "data": {
      "text/plain": [
       "'\\n# to determine the times to execute the body\\nlength = 12\\nprint(\"This is the multiplication of 12 upto 20\")\\nfor i in range(1, 21, 1):\\n    length *= i\\n    print(\"12 * \", i, \" =\\t\", length)\\n    length = 12\\n    \\na = 5\\nfor i in range(0,2):\\n    a *= 5\\nprint(\"\\nThe value of 5 to the power 3 is: \", a)\\n'"
      ]
     },
     "execution_count": 34,
     "metadata": {},
     "output_type": "execute_result"
    }
   ],
   "source": [
    "'''\n",
    "# to determine the times to execute the body\n",
    "length = 12\n",
    "print(\"This is the multiplication of 12 upto 20\")\n",
    "for i in range(1, 21, 1):\n",
    "    length *= i\n",
    "    print(\"12 * \", i, \" =\\t\", length)\n",
    "    length = 12\n",
    "    \n",
    "a = 5\n",
    "for i in range(0,2):\n",
    "    a *= 5\n",
    "print(\"\\nThe value of 5 to the power 3 is: \", a)\n",
    "'''"
   ]
  },
  {
   "cell_type": "code",
   "execution_count": 35,
   "metadata": {},
   "outputs": [
    {
     "data": {
      "text/plain": [
       "'\\nspace = \"\"\\nword = \"Newton\"\\nfor i in word:\\n    space = i + space\\nprint(space)\\n'"
      ]
     },
     "execution_count": 35,
     "metadata": {},
     "output_type": "execute_result"
    }
   ],
   "source": [
    "'''\n",
    "space = \"\"\n",
    "word = \"Newton\"\n",
    "for i in word:\n",
    "    space = i + space\n",
    "print(space)\n",
    "'''"
   ]
  },
  {
   "cell_type": "code",
   "execution_count": 40,
   "metadata": {
    "collapsed": true
   },
   "outputs": [],
   "source": [
    "x = 5\n",
    "cc = [2, 4, 3]\n",
    "y = 0\n",
    "for i, c in enumerate(cc):\n",
    "    y = y + x**i * c"
   ]
  },
  {
   "cell_type": "code",
   "execution_count": 36,
   "metadata": {},
   "outputs": [
    {
     "data": {
      "text/plain": [
       "'\\n# to solve polynomial equations\\nprint(\"Solve the polynomial equation: ax^3 + bx^2 + cx + d\")\\ncoefficient = []\\nfor i in range(0, 4):\\n    a = int(input(\"What are the values of coefficients: a, b, c and d?\"))\\n    coefficient.append(a)\\nx = int(input(\"What is the value of x?\"))\\nj = 3\\nsum = 0.0\\nfor i in range(0,3):\\n    while (j > 0):\\n        sum += coefficient[i]*(x**j)\\n        break\\n    j -= 1\\nsum += coefficient[3]\\nprint(\"The answer is: \", sum)\\n    '"
      ]
     },
     "execution_count": 36,
     "metadata": {},
     "output_type": "execute_result"
    }
   ],
   "source": [
    "'''\n",
    "# to solve polynomial equations\n",
    "print(\"Solve the polynomial equation: ax^3 + bx^2 + cx + d\")\n",
    "coefficient = []\n",
    "for i in range(0, 4):\n",
    "    a = int(input(\"What are the values of coefficients: a, b, c and d?\"))\n",
    "    coefficient.append(a)\n",
    "x = int(input(\"What is the value of x?\"))\n",
    "j = 3\n",
    "sum = 0.0\n",
    "for i in range(0,3):\n",
    "    while (j > 0):\n",
    "        sum += coefficient[i]*(x**j)\n",
    "        break\n",
    "    j -= 1\n",
    "sum += coefficient[3]\n",
    "print(\"The answer is: \", sum)\n",
    "    '''"
   ]
  },
  {
   "cell_type": "markdown",
   "metadata": {},
   "source": []
  },
  {
   "cell_type": "code",
   "execution_count": 37,
   "metadata": {},
   "outputs": [
    {
     "data": {
      "text/plain": [
       "'\\nfruit = [\"apple\", \"orange\", \"watermelon\"]\\nball = \"basketball\"\\nfor i in enumerate(fruit):\\n    print(i)\\nfor i in enumerate(ball, 5):\\n    print(i)\\nvariable = enumerate(fruit)\\nprint(variable)\\n'"
      ]
     },
     "execution_count": 37,
     "metadata": {},
     "output_type": "execute_result"
    }
   ],
   "source": [
    "'''\n",
    "fruit = [\"apple\", \"orange\", \"watermelon\"]\n",
    "ball = \"basketball\"\n",
    "for i in enumerate(fruit):\n",
    "    print(i)\n",
    "for i in enumerate(ball, 5):\n",
    "    print(i)\n",
    "variable = enumerate(fruit)\n",
    "print(variable)\n",
    "'''"
   ]
  },
  {
   "cell_type": "code",
   "execution_count": 38,
   "metadata": {},
   "outputs": [
    {
     "data": {
      "text/plain": [
       "'\\n# a list is a way to store many values.\\nlist = [1, 2, 3, 40]\\nfor i in list:\\n    print(i)\\n\\n# correct the elements, mutable(change, append or reorder the list). For string, it is immutable\\nlist[3] = 4\\nprint(list)\\n'"
      ]
     },
     "execution_count": 38,
     "metadata": {},
     "output_type": "execute_result"
    }
   ],
   "source": [
    "'''\n",
    "# a list is a way to store many values.\n",
    "list = [1, 2, 3, 40]\n",
    "for i in list:\n",
    "    print(i)\n",
    "\n",
    "# correct the elements, mutable(change, append or reorder the list). For string, it is immutable\n",
    "list[3] = 4\n",
    "print(list)\n",
    "'''"
   ]
  },
  {
   "cell_type": "code",
   "execution_count": 39,
   "metadata": {},
   "outputs": [
    {
     "data": {
      "text/plain": [
       "'\\nlisting = [\"football\", \"volleyball\", \"basketball\"]\\nlisting_copy = list(listing)\\nlisting[0] = \"badminton\"\\nprint(listing)\\n'"
      ]
     },
     "execution_count": 39,
     "metadata": {},
     "output_type": "execute_result"
    }
   ],
   "source": [
    "'''\n",
    "listing = [\"football\", \"volleyball\", \"basketball\"]\n",
    "listing_copy = list(listing)\n",
    "listing[0] = \"badminton\"\n",
    "print(listing)\n",
    "'''"
   ]
  },
  {
   "cell_type": "code",
   "execution_count": 40,
   "metadata": {},
   "outputs": [
    {
     "data": {
      "text/plain": [
       "'\\nshop = [[\"onion\", \"peper\", \"garlic\"], [\"rice\", \"wheat\", \"flour\"], [\"butter\", \"milk\", \"chocolate\", \"curd\"]]\\nprint(shop[0])\\nprint(shop[0][2])\\n'"
      ]
     },
     "execution_count": 40,
     "metadata": {},
     "output_type": "execute_result"
    }
   ],
   "source": [
    "'''\n",
    "shop = [[\"onion\", \"peper\", \"garlic\"], [\"rice\", \"wheat\", \"flour\"], [\"butter\", \"milk\", \"chocolate\", \"curd\"]]\n",
    "print(shop[0])\n",
    "print(shop[0][2])\n",
    "'''"
   ]
  },
  {
   "cell_type": "code",
   "execution_count": 41,
   "metadata": {},
   "outputs": [
    {
     "data": {
      "text/plain": [
       "'\\nmy_list = []\\nfor i in \"hello\":\\n    my_list.append(i)\\nprint(my_list)\\n'"
      ]
     },
     "execution_count": 41,
     "metadata": {},
     "output_type": "execute_result"
    }
   ],
   "source": [
    "'''\n",
    "my_list = []\n",
    "for i in \"hello\":\n",
    "    my_list.append(i)\n",
    "print(my_list)\n",
    "'''"
   ]
  },
  {
   "cell_type": "code",
   "execution_count": 89,
   "metadata": {},
   "outputs": [
    {
     "name": "stdout",
     "output_type": "stream",
     "text": [
      "2013\n",
      "Ovne-2\n",
      "Osraindt:0-e-03\n"
     ]
    }
   ],
   "source": [
    "string_for_slicing = \"Observation date: 02-Feb-2013\"\n",
    "print(string_for_slicing[-4:])\n",
    "print(string_for_slicing[0:30:5])  # use of step-size in the slice\n",
    "'''You can also leave out the beginning and end of the slice to take the whole string and provide only the step argument\n",
    "to go every second element:'''\n",
    "print(string_for_slicing[::2])"
   ]
  },
  {
   "cell_type": "code",
   "execution_count": 42,
   "metadata": {},
   "outputs": [
    {
     "data": {
      "text/plain": [
       "'\\n# Use glob.glob(pattern) to create a list of files whose names match a pattern.\\nimport glob\\nfilename = glob.glob(\"inflammation*.csv\")\\nfilename_slice = filename[0:3]\\nprint(filename)\\nprint(\"And this is the slice one \", filename_slice)\\n\\n# Then you can carry on your work on that file\\n'"
      ]
     },
     "execution_count": 42,
     "metadata": {},
     "output_type": "execute_result"
    }
   ],
   "source": [
    "'''\n",
    "# Use glob.glob(pattern) to create a list of files whose names match a pattern.\n",
    "import glob\n",
    "filename = glob.glob(\"inflammation*.csv\")\n",
    "filename_slice = filename[0:3]\n",
    "print(filename)\n",
    "print(\"And this is the slice one \", filename_slice)\n",
    "\n",
    "# Then you can carry on your work on that file\n",
    "'''"
   ]
  },
  {
   "cell_type": "code",
   "execution_count": 43,
   "metadata": {},
   "outputs": [
    {
     "data": {
      "text/plain": [
       "\"\\n# programs do different things based on data values and choices\\n# booleans: true or false\\n# Zero, the empty string, and the empty list are considered false; all other numbers, strings, and lists are considered true.\\n\\nif '':\\n    print('empty string is true')\\nif 'word':\\n    print('word is true')\\nif []:\\n    print('empty list is true')\\nif [1, 2, 3]:\\n    print('non-empty list is true')\\nif 0:\\n    print('zero is true')\\nif 1:\\n    print('one is true')\\n\""
      ]
     },
     "execution_count": 43,
     "metadata": {},
     "output_type": "execute_result"
    }
   ],
   "source": [
    "'''\n",
    "# programs do different things based on data values and choices\n",
    "# booleans: true or false\n",
    "# Zero, the empty string, and the empty list are considered false; all other numbers, strings, and lists are considered true.\n",
    "\n",
    "if '':\n",
    "    print('empty string is true')\n",
    "if 'word':\n",
    "    print('word is true')\n",
    "if []:\n",
    "    print('empty list is true')\n",
    "if [1, 2, 3]:\n",
    "    print('non-empty list is true')\n",
    "if 0:\n",
    "    print('zero is true')\n",
    "if 1:\n",
    "    print('one is true')\n",
    "'''"
   ]
  },
  {
   "cell_type": "code",
   "execution_count": 92,
   "metadata": {},
   "outputs": [
    {
     "name": "stdout",
     "output_type": "stream",
     "text": [
      "empty space is not true\n",
      "not not true is true\n"
     ]
    }
   ],
   "source": [
    "if not \"\":\n",
    "    print(\"empty space is not true\")\n",
    "if not \"word\":\n",
    "    print(\"word is not true\")\n",
    "if not not \"true\":\n",
    "    print(\"not not true is true\")"
   ]
  },
  {
   "cell_type": "code",
   "execution_count": 97,
   "metadata": {},
   "outputs": [
    {
     "name": "stdout",
     "output_type": "stream",
     "text": [
      "phrase has  4  number of vowels\n"
     ]
    }
   ],
   "source": [
    "# counting vowels\n",
    "vowels = \"aeiouAEIOU\"\n",
    "word = \"Live you life to the fullest\"\n",
    "count = 0\n",
    "for i in vowels:\n",
    "    if i in word:\n",
    "        count += 1\n",
    "print(\"phrase has \", int(count), \" number of vowels\")"
   ]
  },
  {
   "cell_type": "code",
   "execution_count": 44,
   "metadata": {},
   "outputs": [
    {
     "data": {
      "text/plain": [
       "'\\n\\n# reuse the codes\\n# \\'return\\' may or may not be used\\ndef values(a = 2, b = 4, c = 8):\\n    print(\"a = \", a, \"b = \", b, \" and c = \", c)\\nvalues()\\nvalues(1)\\nvalues(5, 7)\\nprint(\"\\nThis is set-up value for c\")\\nvalues(c = 6)\\n'"
      ]
     },
     "execution_count": 44,
     "metadata": {},
     "output_type": "execute_result"
    }
   ],
   "source": [
    "'''\n",
    "\n",
    "# reuse the codes\n",
    "# 'return' may or may not be used\n",
    "def values(a = 2, b = 4, c = 8):\n",
    "    print(\"a = \", a, \"b = \", b, \" and c = \", c)\n",
    "values()\n",
    "values(1)\n",
    "values(5, 7)\n",
    "print(\"\\nThis is set-up value for c\")\n",
    "values(c = 6)\n",
    "'''"
   ]
  },
  {
   "cell_type": "code",
   "execution_count": 108,
   "metadata": {
    "collapsed": true
   },
   "outputs": [],
   "source": [
    "# import numpy\n",
    "# help(numpy.loadtxt)\n",
    "\n",
    "# There’s a lot of information here, but the most important part is the first couple of lines:"
   ]
  },
  {
   "cell_type": "code",
   "execution_count": 110,
   "metadata": {},
   "outputs": [
    {
     "name": "stdout",
     "output_type": "stream",
     "text": [
      "11\n",
      "None\n"
     ]
    }
   ],
   "source": [
    "def add(a, b):\n",
    "    print(a + b)\n",
    "step = add(3, 8)\n",
    "print (step) # No return, only has print"
   ]
  },
  {
   "cell_type": "code",
   "execution_count": 116,
   "metadata": {},
   "outputs": [
    {
     "name": "stdout",
     "output_type": "stream",
     "text": [
      "3 5\n"
     ]
    }
   ],
   "source": [
    "a = 3\n",
    "b = 5\n",
    "def swap(a, b):\n",
    "    temp = a\n",
    "    a = b\n",
    "    b = temp\n",
    "    return (a, b)\n",
    "swap(a,b)\n",
    "# print(a,b)"
   ]
  },
  {
   "cell_type": "code",
   "execution_count": 10,
   "metadata": {},
   "outputs": [
    {
     "name": "stdout",
     "output_type": "stream",
     "text": [
      "The BMI of patients is: 31.200000 \n",
      "The BMI of patients is: 35.416667 \n",
      "The BMI of patients is: 25.308642 \n",
      "The BMI of patients is: 51.903114 \n"
     ]
    }
   ],
   "source": [
    "# Calculate BMI = weight_kg/(height_m)**2\n",
    "\n",
    "patients = [[70.2, 1.5], [51, 1.2], [82, 1.8], [150, 1.7]]\n",
    "\n",
    "def calculate_BMI(weight, height):\n",
    "    return (weight/(height**2))\n",
    "\n",
    "for patient in patients:\n",
    "    weight = patient[0]\n",
    "    height = patient[1]\n",
    "    BMI = calculate_BMI(weight, height)\n",
    "    print(\"The BMI of patients is: %f \" % BMI)\n",
    "    "
   ]
  },
  {
   "cell_type": "code",
   "execution_count": 45,
   "metadata": {},
   "outputs": [
    {
     "data": {
      "text/plain": [
       "'\\n\"\"\"\\nWhen you import a Python file, __name__ is the name of that file (e.g., when importing readings.py, __name__ is \\'readings\\').\\nHowever, when running a script in bash, __name__ is always set to \\'__main__\\' in that script so that you can determine\\nif the file is being imported or run as a script.\\n\"\"\"\\n\\nimport sys\\nimport numpy\\n\\ndef main():\\n    script = sys.argv[0]\\n    filename = sys.argv[1]\\n    data = numpy.loadtxt(filename, delimiter=\\',\\')\\n    for m in numpy.mean(data, axis=1):\\n        print(m)\\n        \\n        if __name__ == \\'__main__\\':   # because we have main in the form of \"def main()\"\\n   main()\\n   '"
      ]
     },
     "execution_count": 45,
     "metadata": {},
     "output_type": "execute_result"
    }
   ],
   "source": [
    "'''\n",
    "\"\"\"\n",
    "When you import a Python file, __name__ is the name of that file (e.g., when importing readings.py, __name__ is 'readings').\n",
    "However, when running a script in bash, __name__ is always set to '__main__' in that script so that you can determine\n",
    "if the file is being imported or run as a script.\n",
    "\"\"\"\n",
    "\n",
    "import sys\n",
    "import numpy\n",
    "\n",
    "def main():\n",
    "    script = sys.argv[0]\n",
    "    filename = sys.argv[1]\n",
    "    data = numpy.loadtxt(filename, delimiter=',')\n",
    "    for m in numpy.mean(data, axis=1):\n",
    "        print(m)\n",
    "        \n",
    "        if __name__ == '__main__':   # because we have main in the form of \"def main()\"\n",
    "   main()\n",
    "   '''"
   ]
  },
  {
   "cell_type": "code",
   "execution_count": 46,
   "metadata": {},
   "outputs": [
    {
     "data": {
      "text/plain": [
       "\"\\n# How to give a flag and take multiple files to work on\\n# avoid silent failures\\n\\nimport sys\\nimport numpy\\n\\ndef main():\\n    script = sys.argv[0]\\n    action = sys.argv[1]\\n    filenames = sys.argv[2:]\\n    assert action in ['--min', '--mean', '--max'],            'Action is not one of --min, --mean, or --max: ' + action\\n    for f in filenames:\\n        process(f, action)\\n\\ndef process(filename, action):\\n    data = numpy.loadtxt(filename, delimiter=',')\\n\\n    if action == '--min':\\n        values = numpy.min(data, axis=1)\\n    elif action == '--mean':\\n        values = numpy.mean(data, axis=1)\\n    elif action == '--max':\\n        values = numpy.max(data, axis=1)\\n\\n    for m in values:\\n        print(m)\\n\\nif __name__ == '__main__':\\n   main()\\n   \""
      ]
     },
     "execution_count": 46,
     "metadata": {},
     "output_type": "execute_result"
    }
   ],
   "source": [
    "'''\n",
    "# How to give a flag and take multiple files to work on\n",
    "# avoid silent failures\n",
    "\n",
    "import sys\n",
    "import numpy\n",
    "\n",
    "def main():\n",
    "    script = sys.argv[0]\n",
    "    action = sys.argv[1]\n",
    "    filenames = sys.argv[2:]\n",
    "    assert action in ['--min', '--mean', '--max'], \\\n",
    "           'Action is not one of --min, --mean, or --max: ' + action\n",
    "    for f in filenames:\n",
    "        process(f, action)\n",
    "\n",
    "def process(filename, action):\n",
    "    data = numpy.loadtxt(filename, delimiter=',')\n",
    "\n",
    "    if action == '--min':\n",
    "        values = numpy.min(data, axis=1)\n",
    "    elif action == '--mean':\n",
    "        values = numpy.mean(data, axis=1)\n",
    "    elif action == '--max':\n",
    "        values = numpy.max(data, axis=1)\n",
    "\n",
    "    for m in values:\n",
    "        print(m)\n",
    "\n",
    "if __name__ == '__main__':\n",
    "   main()\n",
    "   '''"
   ]
  },
  {
   "cell_type": "code",
   "execution_count": 14,
   "metadata": {},
   "outputs": [
    {
     "data": {
      "text/plain": [
       "1.3043478260869565"
      ]
     },
     "execution_count": 14,
     "metadata": {},
     "output_type": "execute_result"
    }
   ],
   "source": [
    "# Use assertion to check for internal error\n",
    "\n",
    "def calc_bulk_density(mass, volume):\n",
    "    '''Return dry bulk density = powder mass / powder volume.'''\n",
    "    assert volume > 0\n",
    "    return mass / volume\n",
    "calc_bulk_density(3, 2.3)"
   ]
  },
  {
   "cell_type": "code",
   "execution_count": 17,
   "metadata": {},
   "outputs": [
    {
     "name": "stdout",
     "output_type": "stream",
     "text": [
      "[2, 5, 8]\n"
     ]
    },
    {
     "data": {
      "text/plain": [
       "5"
      ]
     },
     "execution_count": 17,
     "metadata": {},
     "output_type": "execute_result"
    }
   ],
   "source": [
    "def middle(a, b, c):\n",
    "    # Return the middle value of three.\n",
    "    # Assumes the values can actually be compared.\n",
    "    values = [a, b, c]\n",
    "    values.sort()\n",
    "    print(values)\n",
    "    return values[1]\n",
    "middle(5, 2, 8)"
   ]
  },
  {
   "cell_type": "code",
   "execution_count": null,
   "metadata": {
    "collapsed": true
   },
   "outputs": [],
   "source": []
  }
 ],
 "metadata": {
  "kernelspec": {
   "display_name": "Python 3",
   "language": "python",
   "name": "python3"
  },
  "language_info": {
   "codemirror_mode": {
    "name": "ipython",
    "version": 3
   },
   "file_extension": ".py",
   "mimetype": "text/x-python",
   "name": "python",
   "nbconvert_exporter": "python",
   "pygments_lexer": "ipython3",
   "version": "3.6.3"
  }
 },
 "nbformat": 4,
 "nbformat_minor": 2
}
